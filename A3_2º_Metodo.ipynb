{
  "nbformat": 4,
  "nbformat_minor": 0,
  "metadata": {
    "colab": {
      "provenance": [],
      "mount_file_id": "1M-KYmt6ZV4cwK8IDAjiUbPwVxny9AJKe",
      "authorship_tag": "ABX9TyP+dLOMJN/LeS6NmbBqEWCT",
      "include_colab_link": true
    },
    "kernelspec": {
      "name": "python3",
      "display_name": "Python 3"
    },
    "language_info": {
      "name": "python"
    }
  },
  "cells": [
    {
      "cell_type": "markdown",
      "metadata": {
        "id": "view-in-github",
        "colab_type": "text"
      },
      "source": [
        "<a href=\"https://colab.research.google.com/github/phfreitas27/ProjetoA3/blob/main/A3_2%C2%BA_Metodo.ipynb\" target=\"_parent\"><img src=\"https://colab.research.google.com/assets/colab-badge.svg\" alt=\"Open In Colab\"/></a>"
      ]
    },
    {
      "cell_type": "markdown",
      "source": [
        "#Aprendizado de máquina - Naive Bayes"
      ],
      "metadata": {
        "id": "vVlcGZzAz_f_"
      }
    },
    {
      "cell_type": "markdown",
      "source": [
        "##Informações sobre o base de dados"
      ],
      "metadata": {
        "id": "duqn15050FLf"
      }
    },
    {
      "cell_type": "code",
      "execution_count": null,
      "metadata": {
        "id": "2RcCmbd-wi1y"
      },
      "outputs": [],
      "source": [
        "from sklearn import tree\n",
        "from sklearn.metrics import accuracy_score\n",
        "from sklearn import preprocessing\n",
        "import pandas as pd\n",
        "import numpy as np\n",
        "\n",
        "data = pd.read_csv('/content/drive/MyDrive/Python Scripts/amazon_products.csv')\n",
        "\n",
        "n_sample_train_true = 8000\n",
        "n_samples_train_false = 8000\n",
        "\n",
        "# FIltrando a data\n",
        "true_data = data[data['isBestSeller'] == True].sample(n=n_sample_train_true)\n",
        "false_data = data[data['isBestSeller'] == False].sample(n=n_samples_train_false)\n",
        "\n",
        "# Concatenando a data\n",
        "filtered_data = pd.concat([true_data, false_data])\n",
        "\n",
        "base = np.array(filtered_data[['stars','reviews','price','listPrice','category_id','boughtInLastMonth']])\n",
        "\n",
        "#Tratamento da váriavel target\n",
        "le = preprocessing.LabelEncoder()\n",
        "target = le.fit_transform(filtered_data[['isBestSeller']])\n",
        "target = np.array(target)"
      ]
    },
    {
      "cell_type": "markdown",
      "source": [
        "##Dividindo a base para treinamento e teste"
      ],
      "metadata": {
        "id": "DBuwRTeQ0IEk"
      }
    },
    {
      "cell_type": "code",
      "source": [
        "from sklearn.model_selection import train_test_split\n",
        "# caracteristicas e alvo\n",
        "X = base\n",
        "y = target\n",
        "\n",
        "# treino e teste\n",
        "(X_train, X_test, y_train, y_test) = train_test_split(X,y, test_size= 0.2)"
      ],
      "metadata": {
        "id": "gf7MueIcw3UI"
      },
      "execution_count": 8,
      "outputs": []
    },
    {
      "cell_type": "markdown",
      "source": [
        "##Treinando o modelo"
      ],
      "metadata": {
        "id": "COgoDHIm0KHt"
      }
    },
    {
      "cell_type": "code",
      "source": [
        "from sklearn.naive_bayes import GaussianNB\n",
        "# instanciando o modelo\n",
        "modelo1 = GaussianNB()\n",
        "# treinando o modelo utilizando o conjunto de treino\n",
        "modelo1.fit(X_train,y_train)\n",
        "# validando o modelo utilizando o conjunto de teste\n",
        "predictions = modelo1.predict(X_test)"
      ],
      "metadata": {
        "id": "x8aKTYTTxI_Q"
      },
      "execution_count": 9,
      "outputs": []
    },
    {
      "cell_type": "markdown",
      "source": [
        "##Acurácia"
      ],
      "metadata": {
        "id": "IemQ5C8Y0Wn4"
      }
    },
    {
      "cell_type": "code",
      "source": [
        "precisao2 = str(round(modelo1.score(X_test,y_test) * 100, 2))+\"%\"\n",
        "# imprimindo o resultado\n",
        "print(\"A acurácia do modelo foi\",precisao2)"
      ],
      "metadata": {
        "colab": {
          "base_uri": "https://localhost:8080/"
        },
        "id": "cHfCviEx0O8x",
        "outputId": "f5f4633d-f933-40e9-dd7a-4025b87d94c8"
      },
      "execution_count": 10,
      "outputs": [
        {
          "output_type": "stream",
          "name": "stdout",
          "text": [
            "A acurácia do modelo foi 63.72%\n"
          ]
        }
      ]
    },
    {
      "cell_type": "markdown",
      "source": [
        "##Matriz de confusão"
      ],
      "metadata": {
        "id": "KKHMIjUf0Ywm"
      }
    },
    {
      "cell_type": "code",
      "source": [
        "import pandas as pd\n",
        "\n",
        "print('\\nMatriz de confusão: \\n',pd.crosstab(y_test,predictions,rownames=['Real'], colnames=['Predito'],margins=True, margins_name='Todos'))"
      ],
      "metadata": {
        "colab": {
          "base_uri": "https://localhost:8080/"
        },
        "id": "bEoIRDQgxJ0H",
        "outputId": "7cd9227c-6ffe-4b90-c2c0-03a0ae8b383c"
      },
      "execution_count": 11,
      "outputs": [
        {
          "output_type": "stream",
          "name": "stdout",
          "text": [
            "\n",
            "Matriz de confusão: \n",
            " Predito     0    1  Todos\n",
            "Real                     \n",
            "0        1568   30   1598\n",
            "1        1131  471   1602\n",
            "Todos    2699  501   3200\n"
          ]
        }
      ]
    }
  ]
}