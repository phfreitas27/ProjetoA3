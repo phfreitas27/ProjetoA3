{
  "nbformat": 4,
  "nbformat_minor": 0,
  "metadata": {
    "colab": {
      "provenance": [],
      "mount_file_id": "1X22TDBOoJnn1grzi8zvpqXZLtWkw4dS6",
      "authorship_tag": "ABX9TyMNIRUzoQpBqUDMJy283zvD",
      "include_colab_link": true
    },
    "kernelspec": {
      "name": "python3",
      "display_name": "Python 3"
    },
    "language_info": {
      "name": "python"
    }
  },
  "cells": [
    {
      "cell_type": "markdown",
      "metadata": {
        "id": "view-in-github",
        "colab_type": "text"
      },
      "source": [
        "<a href=\"https://colab.research.google.com/github/phfreitas27/ProjetoA3/blob/main/A3_3%C2%BAM%C3%A9todo.ipynb\" target=\"_parent\"><img src=\"https://colab.research.google.com/assets/colab-badge.svg\" alt=\"Open In Colab\"/></a>"
      ]
    },
    {
      "cell_type": "markdown",
      "source": [
        "#Aprendizado de máquina - Regressão Logística"
      ],
      "metadata": {
        "id": "t2eAp_gTvbr1"
      }
    },
    {
      "cell_type": "markdown",
      "source": [
        "##Informações sobre o base de dados"
      ],
      "metadata": {
        "id": "o0AUWOLPvbf9"
      }
    },
    {
      "cell_type": "code",
      "execution_count": null,
      "metadata": {
        "id": "t-tepXM87BSV"
      },
      "outputs": [],
      "source": [
        "from sklearn import tree\n",
        "from sklearn.metrics import accuracy_score\n",
        "from sklearn import preprocessing\n",
        "import pandas as pd\n",
        "import numpy as np\n",
        "\n",
        "\n",
        "data = pd.read_csv('/content/drive/MyDrive/Python Scripts/amazon_products.csv')\n",
        "\n",
        "n_sample_train_true = 8000\n",
        "n_samples_train_false = 8000\n",
        "\n",
        "# FIltrando a data\n",
        "true_data = data[data['isBestSeller'] == True].sample(n=n_sample_train_true)\n",
        "false_data = data[data['isBestSeller'] == False].sample(n=n_samples_train_false)\n",
        "\n",
        "# Concatenando a data\n",
        "filtered_data = pd.concat([true_data, false_data])\n",
        "\n",
        "base = np.array(filtered_data[['stars','reviews','price','listPrice','category_id','boughtInLastMonth']])\n",
        "\n",
        "#Tratamento da váriavel target\n",
        "le = preprocessing.LabelEncoder()\n",
        "target = le.fit_transform(filtered_data[['isBestSeller']])\n",
        "target = np.array(target)"
      ]
    },
    {
      "cell_type": "markdown",
      "source": [
        "##Dividindo a base para treinamento e teste"
      ],
      "metadata": {
        "id": "9ab1JIGtvkud"
      }
    },
    {
      "cell_type": "code",
      "source": [
        "from sklearn.model_selection import train_test_split\n",
        "X_train, X_test, y_train, y_test = train_test_split(base,target, test_size=0.12, random_state = 102)"
      ],
      "metadata": {
        "id": "e7iTKqhKBUEs"
      },
      "execution_count": 3,
      "outputs": []
    },
    {
      "cell_type": "markdown",
      "source": [
        "##Treinando o modelo"
      ],
      "metadata": {
        "id": "51s1vwbbvnE1"
      }
    },
    {
      "cell_type": "code",
      "source": [
        "from sklearn.linear_model import LogisticRegression\n",
        "logmodel = LogisticRegression(solver='lbfgs',max_iter=1000)\n",
        "logmodel = logmodel.fit(X_train,y_train)\n",
        "logmodel"
      ],
      "metadata": {
        "id": "DW3Vd1t0BnJb"
      },
      "execution_count": null,
      "outputs": []
    },
    {
      "cell_type": "markdown",
      "source": [
        "##Acurácia"
      ],
      "metadata": {
        "id": "wfD5Qzk2vpgM"
      }
    },
    {
      "cell_type": "code",
      "source": [
        "predictions = logmodel.predict(X_test)\n",
        "acuracia = logmodel.score(X_test,y_test)\n",
        "print('Acuracia:',round(acuracia*100,2), '%')"
      ],
      "metadata": {
        "colab": {
          "base_uri": "https://localhost:8080/"
        },
        "id": "mJS5jv7MBsmj",
        "outputId": "a5ff36ae-6d7f-4297-8c10-40cf32c5c297"
      },
      "execution_count": 5,
      "outputs": [
        {
          "output_type": "stream",
          "name": "stdout",
          "text": [
            "Acuracia: 76.2 %\n"
          ]
        }
      ]
    },
    {
      "cell_type": "markdown",
      "source": [
        "##Matriz de confusão"
      ],
      "metadata": {
        "id": "uM0UeknDvuZ8"
      }
    },
    {
      "cell_type": "code",
      "source": [
        "import pandas as pd\n",
        "\n",
        "print('\\nMatriz de confusão: \\n',pd.crosstab(y_test,predictions,rownames=['Real'], colnames=['Predito'],margins=True, margins_name='Todos'))"
      ],
      "metadata": {
        "colab": {
          "base_uri": "https://localhost:8080/"
        },
        "id": "_8FJx5n9ByxT",
        "outputId": "6957d23c-a332-4757-c023-935270fe0237"
      },
      "execution_count": 6,
      "outputs": [
        {
          "output_type": "stream",
          "name": "stdout",
          "text": [
            "\n",
            "Matriz de confusão: \n",
            " Predito     0    1  Todos\n",
            "Real                     \n",
            "0         873   84    957\n",
            "1         373  590    963\n",
            "Todos    1246  674   1920\n"
          ]
        }
      ]
    }
  ]
}